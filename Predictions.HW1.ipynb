{
 "cells": [
  {
   "cell_type": "code",
   "execution_count": 126,
   "id": "e5c7275f",
   "metadata": {},
   "outputs": [],
   "source": [
    "#Import all the needed libraries\n",
    "import warnings\n",
    "warnings.filterwarnings('ignore')\n",
    "\n",
    "import pandas as pd\n",
    "import seaborn as sns\n",
    "from mizani.formatters import percent_format\n",
    "import os\n",
    "from plotnine import *\n",
    "import numpy as np\n",
    "import sys\n",
    "import numpy as np\n",
    "import statsmodels.api as sm\n",
    "import statsmodels.formula.api as smf\n",
    "from stargazer import stargazer\n",
    "from statsmodels.tools.eval_measures import mse,rmse\n",
    "import copy"
   ]
  },
  {
   "cell_type": "code",
   "execution_count": 127,
   "id": "97f0e5f1",
   "metadata": {},
   "outputs": [],
   "source": [
    "# Insert all functions from py helper functions\n",
    "####################################################\n",
    "# Import packages\n",
    "####################################################\n",
    "import numpy as np\n",
    "import copy\n",
    "import pandas as pd\n",
    "from plotnine import *\n",
    "\n",
    "\n",
    "####################################################\n",
    "# Define global vars\n",
    "####################################################\n",
    "color = [\"#3a5e8cFF\", \"#10a53dFF\", \"#541352FF\", \"#ffcf20FF\", \"#2f9aa0FF\"]\n",
    "\n",
    "\n",
    "####################################################\n",
    "# Define helper functions\n",
    "####################################################\n",
    "def seq(start, stop, by, round_n=3):\n",
    "    return [round(x, round_n) for x in list(np.arange(start, stop, by))]\n",
    "\n",
    "\n",
    "def skew(l, round_n=3):\n",
    "    return round((np.mean(l) - np.median(l)) / np.std(l), round_n)\n",
    "\n",
    "\n",
    "def lspline(series, knots):\n",
    "    def knot_ceil(vector, knot):\n",
    "        vector_copy = copy.deepcopy(vector)\n",
    "        vector_copy[vector_copy > knot] = knot\n",
    "        return vector_copy\n",
    "\n",
    "    if type(knots) != list:\n",
    "        knots = [knots]\n",
    "    design_matrix = None\n",
    "    vector = series.values\n",
    "\n",
    "    for i in range(len(knots)):\n",
    "        # print(i)\n",
    "        # print(vector)\n",
    "        if i == 0:\n",
    "            column = knot_ceil(vector, knots[i])\n",
    "        else:\n",
    "            column = knot_ceil(vector, knots[i] - knots[i - 1])\n",
    "        # print(column)\n",
    "        if i == 0:\n",
    "            design_matrix = column\n",
    "        else:\n",
    "            design_matrix = np.column_stack((design_matrix, column))\n",
    "        # print(design_matrix)\n",
    "        vector = vector - column\n",
    "    design_matrix = np.column_stack((design_matrix, vector))\n",
    "    # print(design_matrix)\n",
    "    return design_matrix\n",
    "\n",
    "def create_calibration_plot(\n",
    "    data,\n",
    "    file_name,\n",
    "    prob_var,\n",
    "    actual_var,\n",
    "    y_lab=\"Actual event probability\",\n",
    "    n_bins=10,\n",
    "    breaks=None,\n",
    "):\n",
    "    if breaks is None:\n",
    "        breaks = np.around(\n",
    "            np.linspace(0, (n_bins + 1) / 10, num=n_bins + 1, endpoint=False),\n",
    "            decimals=1,\n",
    "        ).tolist()\n",
    "\n",
    "    data[\"prob_bin\"] = pd.cut(data[prob_var], breaks, right=True, include_lowest=True)\n",
    "\n",
    "    binned_data = (\n",
    "        data.groupby(\"prob_bin\")\n",
    "        .agg(\n",
    "            mean_prob=(prob_var, \"mean\"),\n",
    "            mean_actual=(actual_var, \"mean\"),\n",
    "            n=(actual_var, \"size\"),\n",
    "        )\n",
    "        .reset_index()\n",
    "    )\n",
    "\n",
    "    plot = (\n",
    "        ggplot(binned_data, aes(\"mean_prob\", \"mean_actual\"))\n",
    "        + geom_line(color=color[0], size=1, show_legend=True)\n",
    "        + geom_point(\n",
    "            color=color[0],\n",
    "            size=1,\n",
    "            alpha=0.7,\n",
    "            show_legend=False,\n",
    "            na_rm=True,\n",
    "        )\n",
    "        + geom_segment(\n",
    "            x=min(breaks),\n",
    "            xend=max(breaks),\n",
    "            y=min(breaks),\n",
    "            yend=max(breaks),\n",
    "            color=color[1],\n",
    "            size=0.5,\n",
    "        )\n",
    "        + theme_bw()\n",
    "        + labs(x=\"Predicted event probability\", y=y_lab)\n",
    "        + coord_cartesian(xlim=(0, 1), ylim=(0, 1))\n",
    "        + expand_limits(x=0.01, y=0.01)\n",
    "        + scale_y_continuous(expand=(0.01, 0.01), breaks=(seq(0, 1.1, 0.1)))\n",
    "        + scale_x_continuous(expand=(0.01, 0.01), breaks=(seq(0, 1.1, 0.1)))\n",
    "    )\n",
    "\n",
    "    return plot\n"
   ]
  },
  {
   "cell_type": "code",
   "execution_count": 128,
   "id": "ffc28dee",
   "metadata": {},
   "outputs": [
    {
     "data": {
      "text/plain": [
       "'C:\\\\Users\\\\Имя\\\\predictions_hw1'"
      ]
     },
     "execution_count": 128,
     "metadata": {},
     "output_type": "execute_result"
    }
   ],
   "source": [
    "#Current working directory\n",
    "current_path = os.getcwd()\n",
    "current_path"
   ]
  },
  {
   "cell_type": "code",
   "execution_count": 129,
   "id": "b47468fe",
   "metadata": {},
   "outputs": [],
   "source": [
    "#Give a new path\n",
    "os.chdir('C:\\\\Users\\\\Имя\\\\predictions_hw1')\n"
   ]
  },
  {
   "cell_type": "code",
   "execution_count": 130,
   "id": "d8603b02",
   "metadata": {},
   "outputs": [],
   "source": [
    "dirname = os.getcwd()\n",
    "data_in = dirname + \"da_data_repo/cps-earnings/clean/\"\n"
   ]
  },
  {
   "cell_type": "code",
   "execution_count": 131,
   "id": "b1fd2366",
   "metadata": {},
   "outputs": [
    {
     "data": {
      "text/html": [
       "<div>\n",
       "<style scoped>\n",
       "    .dataframe tbody tr th:only-of-type {\n",
       "        vertical-align: middle;\n",
       "    }\n",
       "\n",
       "    .dataframe tbody tr th {\n",
       "        vertical-align: top;\n",
       "    }\n",
       "\n",
       "    .dataframe thead th {\n",
       "        text-align: right;\n",
       "    }\n",
       "</style>\n",
       "<table border=\"1\" class=\"dataframe\">\n",
       "  <thead>\n",
       "    <tr style=\"text-align: right;\">\n",
       "      <th></th>\n",
       "      <th>Unnamed: 0</th>\n",
       "      <th>hhid</th>\n",
       "      <th>intmonth</th>\n",
       "      <th>stfips</th>\n",
       "      <th>weight</th>\n",
       "      <th>earnwke</th>\n",
       "      <th>uhours</th>\n",
       "      <th>grade92</th>\n",
       "      <th>race</th>\n",
       "      <th>ethnic</th>\n",
       "      <th>...</th>\n",
       "      <th>ownchild</th>\n",
       "      <th>chldpres</th>\n",
       "      <th>prcitshp</th>\n",
       "      <th>state</th>\n",
       "      <th>ind02</th>\n",
       "      <th>occ2012</th>\n",
       "      <th>class</th>\n",
       "      <th>unionmme</th>\n",
       "      <th>unioncov</th>\n",
       "      <th>lfsr94</th>\n",
       "    </tr>\n",
       "  </thead>\n",
       "  <tbody>\n",
       "    <tr>\n",
       "      <th>0</th>\n",
       "      <td>3</td>\n",
       "      <td>2600310997690</td>\n",
       "      <td>January</td>\n",
       "      <td>AL</td>\n",
       "      <td>3151.6801</td>\n",
       "      <td>1692.00</td>\n",
       "      <td>40</td>\n",
       "      <td>43</td>\n",
       "      <td>1</td>\n",
       "      <td>NaN</td>\n",
       "      <td>...</td>\n",
       "      <td>0</td>\n",
       "      <td>0</td>\n",
       "      <td>Native, Born In US</td>\n",
       "      <td>63</td>\n",
       "      <td>Employment services (5613)</td>\n",
       "      <td>630</td>\n",
       "      <td>Private, For Profit</td>\n",
       "      <td>No</td>\n",
       "      <td>No</td>\n",
       "      <td>Employed-At Work</td>\n",
       "    </tr>\n",
       "    <tr>\n",
       "      <th>1</th>\n",
       "      <td>5</td>\n",
       "      <td>75680310997590</td>\n",
       "      <td>January</td>\n",
       "      <td>AL</td>\n",
       "      <td>3457.1138</td>\n",
       "      <td>450.00</td>\n",
       "      <td>40</td>\n",
       "      <td>41</td>\n",
       "      <td>2</td>\n",
       "      <td>NaN</td>\n",
       "      <td>...</td>\n",
       "      <td>2</td>\n",
       "      <td>6</td>\n",
       "      <td>Native, Born In US</td>\n",
       "      <td>63</td>\n",
       "      <td>Outpatient care centers (6214)</td>\n",
       "      <td>5400</td>\n",
       "      <td>Private, For Profit</td>\n",
       "      <td>No</td>\n",
       "      <td>No</td>\n",
       "      <td>Employed-Absent</td>\n",
       "    </tr>\n",
       "    <tr>\n",
       "      <th>2</th>\n",
       "      <td>6</td>\n",
       "      <td>75680310997590</td>\n",
       "      <td>January</td>\n",
       "      <td>AL</td>\n",
       "      <td>3936.9110</td>\n",
       "      <td>1090.00</td>\n",
       "      <td>60</td>\n",
       "      <td>41</td>\n",
       "      <td>2</td>\n",
       "      <td>NaN</td>\n",
       "      <td>...</td>\n",
       "      <td>2</td>\n",
       "      <td>6</td>\n",
       "      <td>Native, Born In US</td>\n",
       "      <td>63</td>\n",
       "      <td>Motor vehicles and motor vehicle equipment man...</td>\n",
       "      <td>8140</td>\n",
       "      <td>Private, For Profit</td>\n",
       "      <td>No</td>\n",
       "      <td>No</td>\n",
       "      <td>Employed-At Work</td>\n",
       "    </tr>\n",
       "    <tr>\n",
       "      <th>3</th>\n",
       "      <td>10</td>\n",
       "      <td>179140131100930</td>\n",
       "      <td>January</td>\n",
       "      <td>AL</td>\n",
       "      <td>3288.3640</td>\n",
       "      <td>769.23</td>\n",
       "      <td>40</td>\n",
       "      <td>40</td>\n",
       "      <td>1</td>\n",
       "      <td>NaN</td>\n",
       "      <td>...</td>\n",
       "      <td>2</td>\n",
       "      <td>4</td>\n",
       "      <td>Native, Born In US</td>\n",
       "      <td>63</td>\n",
       "      <td>**Publishing, except newspapers and software (...</td>\n",
       "      <td>8255</td>\n",
       "      <td>Private, For Profit</td>\n",
       "      <td>Yes</td>\n",
       "      <td>NaN</td>\n",
       "      <td>Employed-At Work</td>\n",
       "    </tr>\n",
       "    <tr>\n",
       "      <th>4</th>\n",
       "      <td>11</td>\n",
       "      <td>179140131100930</td>\n",
       "      <td>January</td>\n",
       "      <td>AL</td>\n",
       "      <td>3422.8500</td>\n",
       "      <td>826.92</td>\n",
       "      <td>40</td>\n",
       "      <td>43</td>\n",
       "      <td>1</td>\n",
       "      <td>NaN</td>\n",
       "      <td>...</td>\n",
       "      <td>2</td>\n",
       "      <td>4</td>\n",
       "      <td>Native, Born In US</td>\n",
       "      <td>63</td>\n",
       "      <td>Banking and related activities (521, 52211,52219)</td>\n",
       "      <td>5940</td>\n",
       "      <td>Private, For Profit</td>\n",
       "      <td>No</td>\n",
       "      <td>No</td>\n",
       "      <td>Employed-At Work</td>\n",
       "    </tr>\n",
       "  </tbody>\n",
       "</table>\n",
       "<p>5 rows × 23 columns</p>\n",
       "</div>"
      ],
      "text/plain": [
       "   Unnamed: 0             hhid intmonth stfips     weight  earnwke  uhours  \\\n",
       "0           3    2600310997690  January     AL  3151.6801  1692.00      40   \n",
       "1           5   75680310997590  January     AL  3457.1138   450.00      40   \n",
       "2           6   75680310997590  January     AL  3936.9110  1090.00      60   \n",
       "3          10  179140131100930  January     AL  3288.3640   769.23      40   \n",
       "4          11  179140131100930  January     AL  3422.8500   826.92      40   \n",
       "\n",
       "   grade92  race  ethnic  ...  ownchild  chldpres            prcitshp  state  \\\n",
       "0       43     1     NaN  ...         0         0  Native, Born In US     63   \n",
       "1       41     2     NaN  ...         2         6  Native, Born In US     63   \n",
       "2       41     2     NaN  ...         2         6  Native, Born In US     63   \n",
       "3       40     1     NaN  ...         2         4  Native, Born In US     63   \n",
       "4       43     1     NaN  ...         2         4  Native, Born In US     63   \n",
       "\n",
       "                                               ind02 occ2012  \\\n",
       "0                         Employment services (5613)     630   \n",
       "1                     Outpatient care centers (6214)    5400   \n",
       "2  Motor vehicles and motor vehicle equipment man...    8140   \n",
       "3  **Publishing, except newspapers and software (...    8255   \n",
       "4  Banking and related activities (521, 52211,52219)    5940   \n",
       "\n",
       "                 class unionmme  unioncov            lfsr94  \n",
       "0  Private, For Profit       No        No  Employed-At Work  \n",
       "1  Private, For Profit       No        No   Employed-Absent  \n",
       "2  Private, For Profit       No        No  Employed-At Work  \n",
       "3  Private, For Profit      Yes       NaN  Employed-At Work  \n",
       "4  Private, For Profit       No        No  Employed-At Work  \n",
       "\n",
       "[5 rows x 23 columns]"
      ]
     },
     "execution_count": 131,
     "metadata": {},
     "output_type": "execute_result"
    }
   ],
   "source": [
    "#PART I\n",
    "#Import the data\n",
    "data = pd.read_csv('morg-2014-emp.csv')\n",
    "data.head()#take a look at the data"
   ]
  },
  {
   "cell_type": "code",
   "execution_count": 132,
   "id": "ba8de663",
   "metadata": {},
   "outputs": [
    {
     "data": {
      "text/plain": [
       "23"
      ]
     },
     "execution_count": 132,
     "metadata": {},
     "output_type": "execute_result"
    }
   ],
   "source": [
    "#Filter the data in a way that I only have doctor's occupations. Excluded: pharmacists; nurses; variables including \"all other\";\n",
    "# veterinarians, opticions, technologists and technicians\n",
    "df = data.loc[data.occ2012.isin([3000, 3010, 3030, 3040, 3060, 3140, 3150, 3160, 3200, 3210, 3220])]\n",
    "\n",
    "df.head() #check how this new data set looks like\n",
    "len(df.columns) #check whether it has same number of columns"
   ]
  },
  {
   "cell_type": "code",
   "execution_count": 133,
   "id": "56865d39",
   "metadata": {},
   "outputs": [
    {
     "data": {
      "text/plain": [
       "Unnamed: 0       0\n",
       "hhid             0\n",
       "intmonth         0\n",
       "stfips           0\n",
       "weight           0\n",
       "earnwke          0\n",
       "uhours           0\n",
       "grade92          0\n",
       "race             0\n",
       "ethnic        1609\n",
       "age              0\n",
       "sex              0\n",
       "marital          0\n",
       "ownchild         0\n",
       "chldpres         0\n",
       "prcitshp         0\n",
       "state            0\n",
       "ind02            0\n",
       "occ2012          0\n",
       "class            0\n",
       "unionmme         0\n",
       "unioncov       115\n",
       "lfsr94           0\n",
       "dtype: int64"
      ]
     },
     "execution_count": 133,
     "metadata": {},
     "output_type": "execute_result"
    }
   ],
   "source": [
    "#Check missing values: need it before i will create dummy not to make a mistake\n",
    "df.isna().sum() #no missing values in variables of interest"
   ]
  },
  {
   "cell_type": "code",
   "execution_count": 134,
   "id": "f8c9f08b",
   "metadata": {},
   "outputs": [],
   "source": [
    "# Create new variables\n",
    "df[\"female\"] = (df.sex == 2).astype(int) #transform sex variable in easier to use and read dummy variable\n",
    "df[\"wage\"] = df[\"earnwke\"] / df[\"uhours\"] #variable for hourly wage\n",
    "df[\"lnwage\"] = np.log(df[\"wage\"]) # I need a log of hours wage\n",
    "df[\"agesq\"] = np.power(df[\"age\"], 2) # variable for age squared since I want to test the quadratic relationship between ln hourly wage and wage\n",
    "df[\"fem_age\"] = df['female'] * df['age'] # including interaction to test whether gender differential varies by age\n",
    " \n",
    "df['citizen'] = df.prcitshp.apply(lambda x: 1 if x != \"Foreign Born, Not a US Citizen\" else 0)#dummy to account that some doctors are officialy citizens (1 = citizen)\n",
    "df['spouce'] = df.marital.apply(lambda x: 1 if x <= 2 else 0) # create dummy 1 - if spouce is married and present, 0 otherwise\n",
    "df['atwork'] = df.lfsr94.apply(lambda x: 1 if x == \"Employed-At Work\" else 0) # 1 - emp at work, 0 - emp, absent\n",
    "df['private'] = df[\"class\"].apply(lambda x: 1 if x == 'Private, For Profit' or x == 'Private, Nonprofit' else 0) \n"
   ]
  },
  {
   "cell_type": "code",
   "execution_count": 135,
   "id": "028869f0",
   "metadata": {},
   "outputs": [
    {
     "data": {
      "text/plain": [
       "count    1629.0\n",
       "mean        1.0\n",
       "std         0.0\n",
       "min         1.0\n",
       "25%         1.0\n",
       "50%         1.0\n",
       "75%         1.0\n",
       "max         1.0\n",
       "Name: atwork, dtype: float64"
      ]
     },
     "execution_count": 135,
     "metadata": {},
     "output_type": "execute_result"
    }
   ],
   "source": [
    "#I suspect that those who are employed but not at work might be significantly different from those who are at work right now\n",
    "# Moreover, I don't know for what reasons they are not at work (pregnancy might be one, but might be smth else)\n",
    "# So, I drop all the employed-absent variables from data set\n",
    "df = df[df.atwork != 0] #drop those absent at work\n",
    "df.atwork.describe() #check whether it is what I wanted now"
   ]
  },
  {
   "cell_type": "code",
   "execution_count": 136,
   "id": "133f3715",
   "metadata": {},
   "outputs": [
    {
     "data": {
      "text/plain": [
       "['Unnamed: 0',\n",
       " 'hhid',\n",
       " 'intmonth',\n",
       " 'stfips',\n",
       " 'weight',\n",
       " 'earnwke',\n",
       " 'uhours',\n",
       " 'grade92',\n",
       " 'race',\n",
       " 'ethnic',\n",
       " 'age',\n",
       " 'sex',\n",
       " 'marital',\n",
       " 'ownchild',\n",
       " 'chldpres',\n",
       " 'prcitshp',\n",
       " 'state',\n",
       " 'ind02',\n",
       " 'occ2012',\n",
       " 'class',\n",
       " 'unionmme',\n",
       " 'unioncov',\n",
       " 'lfsr94',\n",
       " 'female',\n",
       " 'wage',\n",
       " 'lnwage',\n",
       " 'agesq',\n",
       " 'fem_age',\n",
       " 'citizen',\n",
       " 'spouce',\n",
       " 'atwork',\n",
       " 'private']"
      ]
     },
     "execution_count": 136,
     "metadata": {},
     "output_type": "execute_result"
    }
   ],
   "source": [
    "#Sample data set only to variables of interest\n",
    "list(df.columns) #look at all the names of columns"
   ]
  },
  {
   "cell_type": "code",
   "execution_count": 137,
   "id": "bc2d9742",
   "metadata": {},
   "outputs": [],
   "source": [
    "# Select columns which are of interest\n",
    "df_final = df[['hhid', 'wage','grade92', 'age','agesq', 'ownchild', 'occ2012', 'private','female','lnwage','fem_age','citizen',\n",
    "              'spouce', 'atwork' ]]"
   ]
  },
  {
   "cell_type": "code",
   "execution_count": 138,
   "id": "fb6ca975",
   "metadata": {
    "scrolled": true
   },
   "outputs": [
    {
     "data": {
      "image/png": "[encoded data removed]",
      "text/plain": [
       "<Figure size 640x480 with 1 Axes>"
      ]
     },
     "metadata": {},
     "output_type": "display_data"
    },
    {
     "data": {
      "text/plain": [
       "<ggplot: (156956668377)>"
      ]
     },
     "execution_count": 138,
     "metadata": {},
     "output_type": "execute_result"
    }
   ],
   "source": [
    "# Check the distribution on wage and ln wage to justify using of ln\n",
    "def seq(start, stop, by, round_n=3):\n",
    "    return [round(x, round_n) for x in list(np.arange(start, stop, by))]\n",
    "\n",
    "(\n",
    "    ggplot(df_final, aes(x=\"wage\"))\n",
    "    + geom_histogram(\n",
    "        aes(y=\"stat(count)/sum(stat(count))\"),\n",
    "        binwidth=10,\n",
    "        fill=\"#3a5e8cFF\",\n",
    "        color=\"white\",\n",
    "        alpha=0.8,\n",
    "        boundary=0,\n",
    "        closed=\"left\",\n",
    "    )\n",
    "    + labs(x=\"Price (US dollars)\", y=\"Percent\")\n",
    "    + scale_y_continuous(\n",
    "        expand=(0.00, 0.00),\n",
    "        limits=(0, 0.15),\n",
    "        breaks=seq(0, 0.16, by=0.03),\n",
    "        labels=percent_format(),\n",
    "    )\n",
    "    + scale_x_continuous(expand=(0.00, 0.00), limits=(0, 200), breaks=seq(0, 401, 50))\n",
    "    + theme_bw()\n",
    ")"
   ]
  },
  {
   "cell_type": "code",
   "execution_count": 139,
   "id": "502aca67",
   "metadata": {},
   "outputs": [
    {
     "data": {
      "text/plain": [
       "0"
      ]
     },
     "execution_count": 139,
     "metadata": {},
     "output_type": "execute_result"
    }
   ],
   "source": [
    "# I see quite a strange distribution, so I want to check what is it on the left hand. Are these people too different from others\n",
    "(df_final.wage == 0).sum() #look whether anyone earns 0, i get that none - good\n",
    "\n"
   ]
  },
  {
   "cell_type": "code",
   "execution_count": 140,
   "id": "d0656403",
   "metadata": {},
   "outputs": [
    {
     "data": {
      "text/plain": [
       "28.199079167331863"
      ]
     },
     "execution_count": 140,
     "metadata": {},
     "output_type": "execute_result"
    }
   ],
   "source": [
    "#Okay then let's creat a subsample and look in more detail\n",
    "df_new = df_final[df_final.wage < 50]\n",
    "df_new.describe()\n",
    "df_new.head(50) # there is a variety of occupaiton codes in this data set, they are from both government and private sector\n",
    "df_new.wage.mean() # the mean is 28 dollars\n",
    "#Overall I didn't see any abnormal characteristics in those who earn less than 50, so I decided to keep them"
   ]
  },
  {
   "cell_type": "code",
   "execution_count": 141,
   "id": "4c5761bb",
   "metadata": {},
   "outputs": [
    {
     "data": {
      "image/png": "[encoded data removed]",
      "text/plain": [
       "<Figure size 640x480 with 1 Axes>"
      ]
     },
     "metadata": {},
     "output_type": "display_data"
    },
    {
     "data": {
      "text/plain": [
       "<ggplot: (156956659188)>"
      ]
     },
     "execution_count": 141,
     "metadata": {},
     "output_type": "execute_result"
    }
   ],
   "source": [
    "#Now plot lnwage\n",
    "(\n",
    "    ggplot(df_final, aes(x=\"lnwage\"))\n",
    "    + geom_histogram(\n",
    "        aes(y=\"stat(count)/sum(stat(count))\"),\n",
    "        binwidth=0.2,\n",
    "        fill=color[0],\n",
    "        color=\"white\",\n",
    "        alpha=0.8,\n",
    "        boundary=0,\n",
    "        closed=\"left\",\n",
    "    )\n",
    "    + coord_cartesian(xlim=(2.5, 6.5))\n",
    "    + scale_y_continuous(\n",
    "        expand=(0.00, 0.00),\n",
    "        limits=(0, 0.15),\n",
    "        breaks=seq(0, 0.16, by=0.05),\n",
    "        labels=percent_format(),\n",
    "    )\n",
    "    + scale_x_continuous(expand=(0.00, 0.01), breaks=seq(2.4, 6.7, 0.6))\n",
    "    + labs(x=\"ln(price, US dollars)\", y=\"Percent\")\n",
    "    + theme_bw()\n",
    ")\n",
    "# It looks much more like a normal distribution - use of ln version is justified"
   ]
  },
  {
   "cell_type": "code",
   "execution_count": 142,
   "id": "2e3aaf9a",
   "metadata": {},
   "outputs": [],
   "source": [
    "#Save this data to csv (and don't touch it) to have it as starting point for regression analysis\n",
    "df_final.to_csv('doctors_wage.csv', index=False)"
   ]
  },
  {
   "cell_type": "code",
   "execution_count": 187,
   "id": "03df12c0",
   "metadata": {},
   "outputs": [],
   "source": [
    "# Part 2\n",
    "# First define functions to evaluate interactions later\n",
    "# Important! I am using here wage even though for reasons described above I will use lnwage\n",
    "# Here it is done only for variable selection purposes\n",
    "\n",
    "def price_diff_by_variables(df, factor_var, dummy_var):\n",
    "    stats = df.groupby([factor_var, dummy_var]).agg(\n",
    "        Mean=(\"wage\", np.mean), sd=(\"wage\", np.std), size=(\"wage\", \"size\")\n",
    "    )\n",
    "    stats[\"se\"] = stats[\"sd\"] / stats[\"size\"] ** (1 / 2)\n",
    "    stats[\"Mean_l\"] = stats[\"Mean\"] - (1.96 * stats[\"se\"])\n",
    "    stats[\"Mean_u\"] = stats[\"Mean\"] + (1.96 * stats[\"se\"])\n",
    "    stats = stats.drop([\"sd\", \"size\"], axis=1).reset_index()\n",
    "    plot = (\n",
    "        ggplot(\n",
    "            stats,\n",
    "            aes(\n",
    "                stats.columns[0],\n",
    "                stats.columns[2],\n",
    "                fill=\"factor(\" + stats.columns[1] + \")\",\n",
    "            ),\n",
    "        )\n",
    "        + geom_bar(stat=\"identity\", position=position_dodge(width=0.9))\n",
    "        + geom_errorbar(\n",
    "            aes(ymin=\"Mean_l\", ymax=\"Mean_u\"),\n",
    "            position=position_dodge(width=0.9),\n",
    "            width=0.25,\n",
    "        )\n",
    "        + ylab(\"Mean wage\")\n",
    "        + theme_bw()\n",
    "        + theme(\n",
    "            panel_grid_major=element_blank(),\n",
    "            panel_grid_minor=element_blank(),\n",
    "            panel_border=element_blank(),\n",
    "            axis_line=element_line(),\n",
    "        )\n",
    "        + scale_fill_grey()\n",
    "    )\n",
    "\n",
    "    return plot\n",
    "\n",
    "def price_diff_by_variables2(df, factor_var, dummy_var, factor_lab, dummy_lab):\n",
    "    stats = df.groupby([factor_var, dummy_var]).agg(\n",
    "        Mean=(\"wage\", np.mean), sd=(\"wage\", np.std), size=(\"wage\", \"size\")\n",
    "    )\n",
    "    stats[\"se\"] = stats[\"sd\"] / stats[\"size\"] ** (1 / 2)\n",
    "    stats[\"Mean_l\"] = stats[\"Mean\"] - (1.96 * stats[\"se\"])\n",
    "    stats[\"Mean_u\"] = stats[\"Mean\"] + (1.96 * stats[\"se\"])\n",
    "    stats = stats.drop([\"sd\", \"size\"], axis=1).reset_index()\n",
    "    plot = (\n",
    "        ggplot(\n",
    "            stats,\n",
    "            aes(\n",
    "                stats.columns[0],\n",
    "                stats.columns[2],\n",
    "                fill=\"factor(\" + stats.columns[1] + \")\",\n",
    "            ),\n",
    "        )\n",
    "        + geom_bar(stat=\"identity\", position=position_dodge(width=0.9))\n",
    "        + geom_errorbar(\n",
    "            aes(ymin=\"Mean_l\", ymax=\"Mean_u\"),\n",
    "            position=position_dodge(width=0.9),\n",
    "            width=0.25,\n",
    "        )\n",
    "        + scale_color_manual(name=dummy_lab, values=(color[1], color[0]))\n",
    "        + scale_fill_manual(name=dummy_lab, values=(color[1], color[0]))\n",
    "        + ylab(\"Mean wage\")\n",
    "        + xlab(factor_lab)\n",
    "        + theme_bw()\n",
    "        + theme(\n",
    "            panel_grid_major=element_blank(),\n",
    "            panel_grid_minor=element_blank(),\n",
    "            panel_border=element_blank(),\n",
    "            axis_line=element_line(),\n",
    "            legend_position=\"top\",\n",
    "            legend_box=\"vertical\",\n",
    "            legend_text=element_text(size=5),\n",
    "            legend_title=element_text(size=5, face=\"bold\"),\n",
    "        )\n",
    "    )\n",
    "\n",
    "    return plot\n"
   ]
  },
  {
   "cell_type": "code",
   "execution_count": 188,
   "id": "24550ee1",
   "metadata": {
    "scrolled": true
   },
   "outputs": [
    {
     "data": {
      "text/plain": [
       "['hhid',\n",
       " 'wage',\n",
       " 'grade92',\n",
       " 'age',\n",
       " 'agesq',\n",
       " 'occ2012',\n",
       " 'private',\n",
       " 'female',\n",
       " 'lnwage',\n",
       " 'fem_age',\n",
       " 'citizen',\n",
       " 'spouce',\n",
       " 'children']"
      ]
     },
     "execution_count": 188,
     "metadata": {},
     "output_type": "execute_result"
    }
   ],
   "source": [
    "# Just look at all variables again\n",
    "list(df_final.columns)"
   ]
  },
  {
   "cell_type": "code",
   "execution_count": 189,
   "id": "f3140d31",
   "metadata": {},
   "outputs": [
    {
     "ename": "KeyError",
     "evalue": "\"['atwork'] not found in axis\"",
     "output_type": "error",
     "traceback": [
      "\u001b[1;31m---------------------------------------------------------------------------\u001b[0m",
      "\u001b[1;31mKeyError\u001b[0m                                  Traceback (most recent call last)",
      "\u001b[1;32m<ipython-input-189-dab0d8579130>\u001b[0m in \u001b[0;36m<module>\u001b[1;34m\u001b[0m\n\u001b[0;32m      1\u001b[0m \u001b[1;31m# Drop variables that I don't need\u001b[0m\u001b[1;33m\u001b[0m\u001b[1;33m\u001b[0m\u001b[1;33m\u001b[0m\u001b[0m\n\u001b[1;32m----> 2\u001b[1;33m \u001b[0mdf_final\u001b[0m \u001b[1;33m=\u001b[0m \u001b[0mdf_final\u001b[0m\u001b[1;33m.\u001b[0m\u001b[0mdrop\u001b[0m\u001b[1;33m(\u001b[0m\u001b[1;34m'atwork'\u001b[0m\u001b[1;33m,\u001b[0m\u001b[0maxis\u001b[0m \u001b[1;33m=\u001b[0m \u001b[1;36m1\u001b[0m\u001b[1;33m)\u001b[0m\u001b[1;33m\u001b[0m\u001b[1;33m\u001b[0m\u001b[0m\n\u001b[0m",
      "\u001b[1;32mC:\\ProgramData\\Anaconda3\\lib\\site-packages\\pandas\\core\\frame.py\u001b[0m in \u001b[0;36mdrop\u001b[1;34m(self, labels, axis, index, columns, level, inplace, errors)\u001b[0m\n\u001b[0;32m   4306\u001b[0m                 \u001b[0mweight\u001b[0m  \u001b[1;36m1.0\u001b[0m     \u001b[1;36m0.8\u001b[0m\u001b[1;33m\u001b[0m\u001b[1;33m\u001b[0m\u001b[0m\n\u001b[0;32m   4307\u001b[0m         \"\"\"\n\u001b[1;32m-> 4308\u001b[1;33m         return super().drop(\n\u001b[0m\u001b[0;32m   4309\u001b[0m             \u001b[0mlabels\u001b[0m\u001b[1;33m=\u001b[0m\u001b[0mlabels\u001b[0m\u001b[1;33m,\u001b[0m\u001b[1;33m\u001b[0m\u001b[1;33m\u001b[0m\u001b[0m\n\u001b[0;32m   4310\u001b[0m             \u001b[0maxis\u001b[0m\u001b[1;33m=\u001b[0m\u001b[0maxis\u001b[0m\u001b[1;33m,\u001b[0m\u001b[1;33m\u001b[0m\u001b[1;33m\u001b[0m\u001b[0m\n",
      "\u001b[1;32mC:\\ProgramData\\Anaconda3\\lib\\site-packages\\pandas\\core\\generic.py\u001b[0m in \u001b[0;36mdrop\u001b[1;34m(self, labels, axis, index, columns, level, inplace, errors)\u001b[0m\n\u001b[0;32m   4151\u001b[0m         \u001b[1;32mfor\u001b[0m \u001b[0maxis\u001b[0m\u001b[1;33m,\u001b[0m \u001b[0mlabels\u001b[0m \u001b[1;32min\u001b[0m \u001b[0maxes\u001b[0m\u001b[1;33m.\u001b[0m\u001b[0mitems\u001b[0m\u001b[1;33m(\u001b[0m\u001b[1;33m)\u001b[0m\u001b[1;33m:\u001b[0m\u001b[1;33m\u001b[0m\u001b[1;33m\u001b[0m\u001b[0m\n\u001b[0;32m   4152\u001b[0m             \u001b[1;32mif\u001b[0m \u001b[0mlabels\u001b[0m \u001b[1;32mis\u001b[0m \u001b[1;32mnot\u001b[0m \u001b[1;32mNone\u001b[0m\u001b[1;33m:\u001b[0m\u001b[1;33m\u001b[0m\u001b[1;33m\u001b[0m\u001b[0m\n\u001b[1;32m-> 4153\u001b[1;33m                 \u001b[0mobj\u001b[0m \u001b[1;33m=\u001b[0m \u001b[0mobj\u001b[0m\u001b[1;33m.\u001b[0m\u001b[0m_drop_axis\u001b[0m\u001b[1;33m(\u001b[0m\u001b[0mlabels\u001b[0m\u001b[1;33m,\u001b[0m \u001b[0maxis\u001b[0m\u001b[1;33m,\u001b[0m \u001b[0mlevel\u001b[0m\u001b[1;33m=\u001b[0m\u001b[0mlevel\u001b[0m\u001b[1;33m,\u001b[0m \u001b[0merrors\u001b[0m\u001b[1;33m=\u001b[0m\u001b[0merrors\u001b[0m\u001b[1;33m)\u001b[0m\u001b[1;33m\u001b[0m\u001b[1;33m\u001b[0m\u001b[0m\n\u001b[0m\u001b[0;32m   4154\u001b[0m \u001b[1;33m\u001b[0m\u001b[0m\n\u001b[0;32m   4155\u001b[0m         \u001b[1;32mif\u001b[0m \u001b[0minplace\u001b[0m\u001b[1;33m:\u001b[0m\u001b[1;33m\u001b[0m\u001b[1;33m\u001b[0m\u001b[0m\n",
      "\u001b[1;32mC:\\ProgramData\\Anaconda3\\lib\\site-packages\\pandas\\core\\generic.py\u001b[0m in \u001b[0;36m_drop_axis\u001b[1;34m(self, labels, axis, level, errors)\u001b[0m\n\u001b[0;32m   4186\u001b[0m                 \u001b[0mnew_axis\u001b[0m \u001b[1;33m=\u001b[0m \u001b[0maxis\u001b[0m\u001b[1;33m.\u001b[0m\u001b[0mdrop\u001b[0m\u001b[1;33m(\u001b[0m\u001b[0mlabels\u001b[0m\u001b[1;33m,\u001b[0m \u001b[0mlevel\u001b[0m\u001b[1;33m=\u001b[0m\u001b[0mlevel\u001b[0m\u001b[1;33m,\u001b[0m \u001b[0merrors\u001b[0m\u001b[1;33m=\u001b[0m\u001b[0merrors\u001b[0m\u001b[1;33m)\u001b[0m\u001b[1;33m\u001b[0m\u001b[1;33m\u001b[0m\u001b[0m\n\u001b[0;32m   4187\u001b[0m             \u001b[1;32melse\u001b[0m\u001b[1;33m:\u001b[0m\u001b[1;33m\u001b[0m\u001b[1;33m\u001b[0m\u001b[0m\n\u001b[1;32m-> 4188\u001b[1;33m                 \u001b[0mnew_axis\u001b[0m \u001b[1;33m=\u001b[0m \u001b[0maxis\u001b[0m\u001b[1;33m.\u001b[0m\u001b[0mdrop\u001b[0m\u001b[1;33m(\u001b[0m\u001b[0mlabels\u001b[0m\u001b[1;33m,\u001b[0m \u001b[0merrors\u001b[0m\u001b[1;33m=\u001b[0m\u001b[0merrors\u001b[0m\u001b[1;33m)\u001b[0m\u001b[1;33m\u001b[0m\u001b[1;33m\u001b[0m\u001b[0m\n\u001b[0m\u001b[0;32m   4189\u001b[0m             \u001b[0mresult\u001b[0m \u001b[1;33m=\u001b[0m \u001b[0mself\u001b[0m\u001b[1;33m.\u001b[0m\u001b[0mreindex\u001b[0m\u001b[1;33m(\u001b[0m\u001b[1;33m**\u001b[0m\u001b[1;33m{\u001b[0m\u001b[0maxis_name\u001b[0m\u001b[1;33m:\u001b[0m \u001b[0mnew_axis\u001b[0m\u001b[1;33m}\u001b[0m\u001b[1;33m)\u001b[0m\u001b[1;33m\u001b[0m\u001b[1;33m\u001b[0m\u001b[0m\n\u001b[0;32m   4190\u001b[0m \u001b[1;33m\u001b[0m\u001b[0m\n",
      "\u001b[1;32mC:\\ProgramData\\Anaconda3\\lib\\site-packages\\pandas\\core\\indexes\\base.py\u001b[0m in \u001b[0;36mdrop\u001b[1;34m(self, labels, errors)\u001b[0m\n\u001b[0;32m   5589\u001b[0m         \u001b[1;32mif\u001b[0m \u001b[0mmask\u001b[0m\u001b[1;33m.\u001b[0m\u001b[0many\u001b[0m\u001b[1;33m(\u001b[0m\u001b[1;33m)\u001b[0m\u001b[1;33m:\u001b[0m\u001b[1;33m\u001b[0m\u001b[1;33m\u001b[0m\u001b[0m\n\u001b[0;32m   5590\u001b[0m             \u001b[1;32mif\u001b[0m \u001b[0merrors\u001b[0m \u001b[1;33m!=\u001b[0m \u001b[1;34m\"ignore\"\u001b[0m\u001b[1;33m:\u001b[0m\u001b[1;33m\u001b[0m\u001b[1;33m\u001b[0m\u001b[0m\n\u001b[1;32m-> 5591\u001b[1;33m                 \u001b[1;32mraise\u001b[0m \u001b[0mKeyError\u001b[0m\u001b[1;33m(\u001b[0m\u001b[1;34mf\"{labels[mask]} not found in axis\"\u001b[0m\u001b[1;33m)\u001b[0m\u001b[1;33m\u001b[0m\u001b[1;33m\u001b[0m\u001b[0m\n\u001b[0m\u001b[0;32m   5592\u001b[0m             \u001b[0mindexer\u001b[0m \u001b[1;33m=\u001b[0m \u001b[0mindexer\u001b[0m\u001b[1;33m[\u001b[0m\u001b[1;33m~\u001b[0m\u001b[0mmask\u001b[0m\u001b[1;33m]\u001b[0m\u001b[1;33m\u001b[0m\u001b[1;33m\u001b[0m\u001b[0m\n\u001b[0;32m   5593\u001b[0m         \u001b[1;32mreturn\u001b[0m \u001b[0mself\u001b[0m\u001b[1;33m.\u001b[0m\u001b[0mdelete\u001b[0m\u001b[1;33m(\u001b[0m\u001b[0mindexer\u001b[0m\u001b[1;33m)\u001b[0m\u001b[1;33m\u001b[0m\u001b[1;33m\u001b[0m\u001b[0m\n",
      "\u001b[1;31mKeyError\u001b[0m: \"['atwork'] not found in axis\""
     ]
    }
   ],
   "source": [
    "# Drop variables that I don't need\n",
    "df_final = df_final.drop('atwork',axis = 1)"
   ]
  },
  {
   "cell_type": "code",
   "execution_count": 190,
   "id": "cdb3af56",
   "metadata": {},
   "outputs": [
    {
     "ename": "AttributeError",
     "evalue": "'DataFrame' object has no attribute 'ownchild'",
     "output_type": "error",
     "traceback": [
      "\u001b[1;31m---------------------------------------------------------------------------\u001b[0m",
      "\u001b[1;31mAttributeError\u001b[0m                            Traceback (most recent call last)",
      "\u001b[1;32m<ipython-input-190-05306b7935ca>\u001b[0m in \u001b[0;36m<module>\u001b[1;34m\u001b[0m\n\u001b[1;32m----> 1\u001b[1;33m \u001b[0mdf_final\u001b[0m\u001b[1;33m.\u001b[0m\u001b[0mownchild\u001b[0m\u001b[1;33m.\u001b[0m\u001b[0mdescribe\u001b[0m\u001b[1;33m(\u001b[0m\u001b[1;33m)\u001b[0m\u001b[1;31m# look how ownchild is distributed in data set\u001b[0m\u001b[1;33m\u001b[0m\u001b[1;33m\u001b[0m\u001b[0m\n\u001b[0m\u001b[0;32m      2\u001b[0m \u001b[1;31m# Based on reading literature, I decided to use dummy variable for children instead of number of children\u001b[0m\u001b[1;33m\u001b[0m\u001b[1;33m\u001b[0m\u001b[1;33m\u001b[0m\u001b[0m\n\u001b[0;32m      3\u001b[0m \u001b[0mdf_final\u001b[0m\u001b[1;33m[\u001b[0m\u001b[1;34m'children'\u001b[0m\u001b[1;33m]\u001b[0m \u001b[1;33m=\u001b[0m \u001b[0mdf_final\u001b[0m\u001b[1;33m.\u001b[0m\u001b[0mownchild\u001b[0m\u001b[1;33m.\u001b[0m\u001b[0mapply\u001b[0m\u001b[1;33m(\u001b[0m\u001b[1;32mlambda\u001b[0m \u001b[0mx\u001b[0m\u001b[1;33m:\u001b[0m \u001b[1;36m1\u001b[0m \u001b[1;32mif\u001b[0m \u001b[0mx\u001b[0m \u001b[1;33m>\u001b[0m\u001b[1;36m0\u001b[0m \u001b[1;32melse\u001b[0m \u001b[1;36m0\u001b[0m\u001b[1;33m)\u001b[0m \u001b[1;31m# 1 - has children\u001b[0m\u001b[1;33m\u001b[0m\u001b[1;33m\u001b[0m\u001b[0m\n\u001b[0;32m      4\u001b[0m \u001b[0mdf_final\u001b[0m\u001b[1;33m.\u001b[0m\u001b[0mchildren\u001b[0m\u001b[1;33m.\u001b[0m\u001b[0mdescribe\u001b[0m\u001b[1;33m(\u001b[0m\u001b[1;33m)\u001b[0m\u001b[1;31m#look whether I have what I want\u001b[0m\u001b[1;33m\u001b[0m\u001b[1;33m\u001b[0m\u001b[0m\n\u001b[0;32m      5\u001b[0m \u001b[0mdf_final\u001b[0m \u001b[1;33m=\u001b[0m \u001b[0mdf_final\u001b[0m\u001b[1;33m.\u001b[0m\u001b[0mdrop\u001b[0m\u001b[1;33m(\u001b[0m\u001b[1;34m'ownchild'\u001b[0m\u001b[1;33m,\u001b[0m\u001b[0maxis\u001b[0m \u001b[1;33m=\u001b[0m \u001b[1;36m1\u001b[0m\u001b[1;33m)\u001b[0m \u001b[1;31m#drop ownchildren\u001b[0m\u001b[1;33m\u001b[0m\u001b[1;33m\u001b[0m\u001b[0m\n",
      "\u001b[1;32mC:\\ProgramData\\Anaconda3\\lib\\site-packages\\pandas\\core\\generic.py\u001b[0m in \u001b[0;36m__getattr__\u001b[1;34m(self, name)\u001b[0m\n\u001b[0;32m   5463\u001b[0m             \u001b[1;32mif\u001b[0m \u001b[0mself\u001b[0m\u001b[1;33m.\u001b[0m\u001b[0m_info_axis\u001b[0m\u001b[1;33m.\u001b[0m\u001b[0m_can_hold_identifiers_and_holds_name\u001b[0m\u001b[1;33m(\u001b[0m\u001b[0mname\u001b[0m\u001b[1;33m)\u001b[0m\u001b[1;33m:\u001b[0m\u001b[1;33m\u001b[0m\u001b[1;33m\u001b[0m\u001b[0m\n\u001b[0;32m   5464\u001b[0m                 \u001b[1;32mreturn\u001b[0m \u001b[0mself\u001b[0m\u001b[1;33m[\u001b[0m\u001b[0mname\u001b[0m\u001b[1;33m]\u001b[0m\u001b[1;33m\u001b[0m\u001b[1;33m\u001b[0m\u001b[0m\n\u001b[1;32m-> 5465\u001b[1;33m             \u001b[1;32mreturn\u001b[0m \u001b[0mobject\u001b[0m\u001b[1;33m.\u001b[0m\u001b[0m__getattribute__\u001b[0m\u001b[1;33m(\u001b[0m\u001b[0mself\u001b[0m\u001b[1;33m,\u001b[0m \u001b[0mname\u001b[0m\u001b[1;33m)\u001b[0m\u001b[1;33m\u001b[0m\u001b[1;33m\u001b[0m\u001b[0m\n\u001b[0m\u001b[0;32m   5466\u001b[0m \u001b[1;33m\u001b[0m\u001b[0m\n\u001b[0;32m   5467\u001b[0m     \u001b[1;32mdef\u001b[0m \u001b[0m__setattr__\u001b[0m\u001b[1;33m(\u001b[0m\u001b[0mself\u001b[0m\u001b[1;33m,\u001b[0m \u001b[0mname\u001b[0m\u001b[1;33m:\u001b[0m \u001b[0mstr\u001b[0m\u001b[1;33m,\u001b[0m \u001b[0mvalue\u001b[0m\u001b[1;33m)\u001b[0m \u001b[1;33m->\u001b[0m \u001b[1;32mNone\u001b[0m\u001b[1;33m:\u001b[0m\u001b[1;33m\u001b[0m\u001b[1;33m\u001b[0m\u001b[0m\n",
      "\u001b[1;31mAttributeError\u001b[0m: 'DataFrame' object has no attribute 'ownchild'"
     ]
    }
   ],
   "source": [
    "df_final.ownchild.describe()# look how ownchild is distributed in data set\n",
    "# Based on reading literature, I decided to use dummy variable for children instead of number of children\n",
    "df_final['children'] = df_final.ownchild.apply(lambda x: 1 if x >0 else 0) # 1 - has children\n",
    "df_final.children.describe()#look whether I have what I want\n",
    "df_final = df_final.drop('ownchild',axis = 1) #drop ownchildren\n"
   ]
  },
  {
   "cell_type": "code",
   "execution_count": 191,
   "id": "502282ce",
   "metadata": {},
   "outputs": [
    {
     "data": {
      "text/plain": [
       "['hhid',\n",
       " 'wage',\n",
       " 'grade92',\n",
       " 'age',\n",
       " 'agesq',\n",
       " 'occ2012',\n",
       " 'private',\n",
       " 'female',\n",
       " 'lnwage',\n",
       " 'fem_age',\n",
       " 'citizen',\n",
       " 'spouce',\n",
       " 'children']"
      ]
     },
     "execution_count": 191,
     "metadata": {},
     "output_type": "execute_result"
    }
   ],
   "source": [
    "list(df_final.columns) #check that is what I want"
   ]
  },
  {
   "cell_type": "code",
   "execution_count": 192,
   "id": "9deda4a5",
   "metadata": {},
   "outputs": [],
   "source": [
    "# Interactions are based on domain knowldge\n",
    "# 1 - female*spouce\n",
    "# 2 - female*citizen\n",
    "# 3 - private*citizen\n",
    "# 4 - female*children"
   ]
  },
  {
   "cell_type": "code",
   "execution_count": 193,
   "id": "a07aa7ad",
   "metadata": {},
   "outputs": [
    {
     "data": {
      "image/png": "[encoded data removed]",
      "text/plain": [
       "<Figure size 640x480 with 1 Axes>"
      ]
     },
     "metadata": {},
     "output_type": "display_data"
    },
    {
     "data": {
      "text/plain": [
       "<ggplot: (156956686815)>"
      ]
     },
     "execution_count": 193,
     "metadata": {},
     "output_type": "execute_result"
    }
   ],
   "source": [
    "# Interaction 1 - female*spouce\n",
    "price_diff_by_variables(df_final,\"female\",\"spouce\")"
   ]
  },
  {
   "cell_type": "code",
   "execution_count": 194,
   "id": "140e3f3a",
   "metadata": {},
   "outputs": [
    {
     "data": {
      "image/png": "[encoded data removed]",
      "text/plain": [
       "<Figure size 640x480 with 1 Axes>"
      ]
     },
     "metadata": {},
     "output_type": "display_data"
    },
    {
     "data": {
      "text/plain": [
       "<ggplot: (156956866910)>"
      ]
     },
     "execution_count": 194,
     "metadata": {},
     "output_type": "execute_result"
    }
   ],
   "source": [
    "# Interaction 2 - female*citizen\n",
    "price_diff_by_variables(df_final,\"female\",\"citizen\")"
   ]
  },
  {
   "cell_type": "code",
   "execution_count": 195,
   "id": "e2b64beb",
   "metadata": {},
   "outputs": [
    {
     "data": {
      "image/png": "[encoded data removed]",
      "text/plain": [
       "<Figure size 640x480 with 1 Axes>"
      ]
     },
     "metadata": {},
     "output_type": "display_data"
    },
    {
     "data": {
      "text/plain": [
       "<ggplot: (156956920634)>"
      ]
     },
     "execution_count": 195,
     "metadata": {},
     "output_type": "execute_result"
    }
   ],
   "source": [
    "# Interaction 3 - private*citizen\n",
    "price_diff_by_variables(df_final,\"private\",\"citizen\")"
   ]
  },
  {
   "cell_type": "code",
   "execution_count": 196,
   "id": "ad7ad963",
   "metadata": {},
   "outputs": [
    {
     "data": {
      "image/png": "[encoded data removed]",
      "text/plain": [
       "<Figure size 640x480 with 1 Axes>"
      ]
     },
     "metadata": {},
     "output_type": "display_data"
    },
    {
     "data": {
      "text/plain": [
       "<ggplot: (156956897247)>"
      ]
     },
     "execution_count": 196,
     "metadata": {},
     "output_type": "execute_result"
    }
   ],
   "source": [
    "# Interaction 4 - female*children\n",
    "price_diff_by_variables(df_final,\"female\",\"children\")"
   ]
  },
  {
   "cell_type": "code",
   "execution_count": null,
   "id": "5acd6ce1",
   "metadata": {},
   "outputs": [],
   "source": []
  }
 ],
 "metadata": {
  "kernelspec": {
   "display_name": "Python 3",
   "language": "python",
   "name": "python3"
  },
  "language_info": {
   "codemirror_mode": {
    "name": "ipython",
    "version": 3
   },
   "file_extension": ".py",
   "mimetype": "text/x-python",
   "name": "python",
   "nbconvert_exporter": "python",
   "pygments_lexer": "ipython3",
   "version": "3.8.8"
  }
 },
 "nbformat": 4,
 "nbformat_minor": 5
}
