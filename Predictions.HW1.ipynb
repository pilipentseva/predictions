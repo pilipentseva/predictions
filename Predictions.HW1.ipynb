{
 "cells": [
  {
   "cell_type": "code",
   "execution_count": 114,
   "id": "e5c7275f",
   "metadata": {},
   "outputs": [],
   "source": [
    "#Import all the needed libraries\n",
    "import warnings\n",
    "warnings.filterwarnings('ignore')\n",
    "\n",
    "import pandas as pd\n",
    "import seaborn as sns\n",
    "from mizani.formatters import percent_format\n",
    "import os\n",
    "from plotnine import *\n",
    "import numpy as np\n",
    "import sys\n",
    "import numpy as np\n",
    "import statsmodels.api as sm\n",
    "import statsmodels.formula.api as smf\n",
    "from stargazer import stargazer\n",
    "from statsmodels.tools.eval_measures import mse,rmse"
   ]
  },
  {
   "cell_type": "code",
   "execution_count": 115,
   "id": "ffc28dee",
   "metadata": {},
   "outputs": [
    {
     "data": {
      "text/plain": [
       "'C:\\\\Users\\\\Anna\\\\predictions_hw1'"
      ]
     },
     "execution_count": 115,
     "metadata": {},
     "output_type": "execute_result"
    }
   ],
   "source": [
    "#Current working directory\n",
    "path = os.getcwd()\n",
    "path"
   ]
  },
  {
   "cell_type": "code",
   "execution_count": 116,
   "id": "b47468fe",
   "metadata": {},
   "outputs": [],
   "source": [
    "#Give a new path\n",
    "os.chdir('C:\\\\Users\\\\Anna\\\\predictions_hw1')\n"
   ]
  },
  {
   "cell_type": "code",
   "execution_count": 117,
   "id": "d8603b02",
   "metadata": {},
   "outputs": [],
   "source": [
    "dirname = os.getcwd()\n",
    "data_in = dirname + \"da_data_repo/cps-earnings/clean/\"\n",
    "data_out = dirname + \"da_case_studies/ch09-gender-age-earnings/\""
   ]
  },
  {
   "cell_type": "code",
   "execution_count": 118,
   "id": "b1fd2366",
   "metadata": {},
   "outputs": [
    {
     "data": {
      "text/html": [
       "<div>\n",
       "<style scoped>\n",
       "    .dataframe tbody tr th:only-of-type {\n",
       "        vertical-align: middle;\n",
       "    }\n",
       "\n",
       "    .dataframe tbody tr th {\n",
       "        vertical-align: top;\n",
       "    }\n",
       "\n",
       "    .dataframe thead th {\n",
       "        text-align: right;\n",
       "    }\n",
       "</style>\n",
       "<table border=\"1\" class=\"dataframe\">\n",
       "  <thead>\n",
       "    <tr style=\"text-align: right;\">\n",
       "      <th></th>\n",
       "      <th>Unnamed: 0</th>\n",
       "      <th>hhid</th>\n",
       "      <th>intmonth</th>\n",
       "      <th>stfips</th>\n",
       "      <th>weight</th>\n",
       "      <th>earnwke</th>\n",
       "      <th>uhours</th>\n",
       "      <th>grade92</th>\n",
       "      <th>race</th>\n",
       "      <th>ethnic</th>\n",
       "      <th>...</th>\n",
       "      <th>ownchild</th>\n",
       "      <th>chldpres</th>\n",
       "      <th>prcitshp</th>\n",
       "      <th>state</th>\n",
       "      <th>ind02</th>\n",
       "      <th>occ2012</th>\n",
       "      <th>class</th>\n",
       "      <th>unionmme</th>\n",
       "      <th>unioncov</th>\n",
       "      <th>lfsr94</th>\n",
       "    </tr>\n",
       "  </thead>\n",
       "  <tbody>\n",
       "    <tr>\n",
       "      <th>0</th>\n",
       "      <td>3</td>\n",
       "      <td>2600310997690</td>\n",
       "      <td>January</td>\n",
       "      <td>AL</td>\n",
       "      <td>3151.6801</td>\n",
       "      <td>1692.00</td>\n",
       "      <td>40</td>\n",
       "      <td>43</td>\n",
       "      <td>1</td>\n",
       "      <td>NaN</td>\n",
       "      <td>...</td>\n",
       "      <td>0</td>\n",
       "      <td>0</td>\n",
       "      <td>Native, Born In US</td>\n",
       "      <td>63</td>\n",
       "      <td>Employment services (5613)</td>\n",
       "      <td>630</td>\n",
       "      <td>Private, For Profit</td>\n",
       "      <td>No</td>\n",
       "      <td>No</td>\n",
       "      <td>Employed-At Work</td>\n",
       "    </tr>\n",
       "    <tr>\n",
       "      <th>1</th>\n",
       "      <td>5</td>\n",
       "      <td>75680310997590</td>\n",
       "      <td>January</td>\n",
       "      <td>AL</td>\n",
       "      <td>3457.1138</td>\n",
       "      <td>450.00</td>\n",
       "      <td>40</td>\n",
       "      <td>41</td>\n",
       "      <td>2</td>\n",
       "      <td>NaN</td>\n",
       "      <td>...</td>\n",
       "      <td>2</td>\n",
       "      <td>6</td>\n",
       "      <td>Native, Born In US</td>\n",
       "      <td>63</td>\n",
       "      <td>Outpatient care centers (6214)</td>\n",
       "      <td>5400</td>\n",
       "      <td>Private, For Profit</td>\n",
       "      <td>No</td>\n",
       "      <td>No</td>\n",
       "      <td>Employed-Absent</td>\n",
       "    </tr>\n",
       "    <tr>\n",
       "      <th>2</th>\n",
       "      <td>6</td>\n",
       "      <td>75680310997590</td>\n",
       "      <td>January</td>\n",
       "      <td>AL</td>\n",
       "      <td>3936.9110</td>\n",
       "      <td>1090.00</td>\n",
       "      <td>60</td>\n",
       "      <td>41</td>\n",
       "      <td>2</td>\n",
       "      <td>NaN</td>\n",
       "      <td>...</td>\n",
       "      <td>2</td>\n",
       "      <td>6</td>\n",
       "      <td>Native, Born In US</td>\n",
       "      <td>63</td>\n",
       "      <td>Motor vehicles and motor vehicle equipment man...</td>\n",
       "      <td>8140</td>\n",
       "      <td>Private, For Profit</td>\n",
       "      <td>No</td>\n",
       "      <td>No</td>\n",
       "      <td>Employed-At Work</td>\n",
       "    </tr>\n",
       "    <tr>\n",
       "      <th>3</th>\n",
       "      <td>10</td>\n",
       "      <td>179140131100930</td>\n",
       "      <td>January</td>\n",
       "      <td>AL</td>\n",
       "      <td>3288.3640</td>\n",
       "      <td>769.23</td>\n",
       "      <td>40</td>\n",
       "      <td>40</td>\n",
       "      <td>1</td>\n",
       "      <td>NaN</td>\n",
       "      <td>...</td>\n",
       "      <td>2</td>\n",
       "      <td>4</td>\n",
       "      <td>Native, Born In US</td>\n",
       "      <td>63</td>\n",
       "      <td>**Publishing, except newspapers and software (...</td>\n",
       "      <td>8255</td>\n",
       "      <td>Private, For Profit</td>\n",
       "      <td>Yes</td>\n",
       "      <td>NaN</td>\n",
       "      <td>Employed-At Work</td>\n",
       "    </tr>\n",
       "    <tr>\n",
       "      <th>4</th>\n",
       "      <td>11</td>\n",
       "      <td>179140131100930</td>\n",
       "      <td>January</td>\n",
       "      <td>AL</td>\n",
       "      <td>3422.8500</td>\n",
       "      <td>826.92</td>\n",
       "      <td>40</td>\n",
       "      <td>43</td>\n",
       "      <td>1</td>\n",
       "      <td>NaN</td>\n",
       "      <td>...</td>\n",
       "      <td>2</td>\n",
       "      <td>4</td>\n",
       "      <td>Native, Born In US</td>\n",
       "      <td>63</td>\n",
       "      <td>Banking and related activities (521, 52211,52219)</td>\n",
       "      <td>5940</td>\n",
       "      <td>Private, For Profit</td>\n",
       "      <td>No</td>\n",
       "      <td>No</td>\n",
       "      <td>Employed-At Work</td>\n",
       "    </tr>\n",
       "  </tbody>\n",
       "</table>\n",
       "<p>5 rows × 23 columns</p>\n",
       "</div>"
      ],
      "text/plain": [
       "   Unnamed: 0             hhid intmonth stfips     weight  earnwke  uhours  \\\n",
       "0           3    2600310997690  January     AL  3151.6801  1692.00      40   \n",
       "1           5   75680310997590  January     AL  3457.1138   450.00      40   \n",
       "2           6   75680310997590  January     AL  3936.9110  1090.00      60   \n",
       "3          10  179140131100930  January     AL  3288.3640   769.23      40   \n",
       "4          11  179140131100930  January     AL  3422.8500   826.92      40   \n",
       "\n",
       "   grade92  race  ethnic  ...  ownchild  chldpres            prcitshp  state  \\\n",
       "0       43     1     NaN  ...         0         0  Native, Born In US     63   \n",
       "1       41     2     NaN  ...         2         6  Native, Born In US     63   \n",
       "2       41     2     NaN  ...         2         6  Native, Born In US     63   \n",
       "3       40     1     NaN  ...         2         4  Native, Born In US     63   \n",
       "4       43     1     NaN  ...         2         4  Native, Born In US     63   \n",
       "\n",
       "                                               ind02 occ2012  \\\n",
       "0                         Employment services (5613)     630   \n",
       "1                     Outpatient care centers (6214)    5400   \n",
       "2  Motor vehicles and motor vehicle equipment man...    8140   \n",
       "3  **Publishing, except newspapers and software (...    8255   \n",
       "4  Banking and related activities (521, 52211,52219)    5940   \n",
       "\n",
       "                 class unionmme  unioncov            lfsr94  \n",
       "0  Private, For Profit       No        No  Employed-At Work  \n",
       "1  Private, For Profit       No        No   Employed-Absent  \n",
       "2  Private, For Profit       No        No  Employed-At Work  \n",
       "3  Private, For Profit      Yes       NaN  Employed-At Work  \n",
       "4  Private, For Profit       No        No  Employed-At Work  \n",
       "\n",
       "[5 rows x 23 columns]"
      ]
     },
     "execution_count": 118,
     "metadata": {},
     "output_type": "execute_result"
    }
   ],
   "source": [
    "#Import the data\n",
    "data = pd.read_csv('morg-2014-emp.csv')\n",
    "data.head()#take a look at the data"
   ]
  },
  {
   "cell_type": "code",
   "execution_count": 119,
   "id": "ba8de663",
   "metadata": {},
   "outputs": [
    {
     "data": {
      "text/plain": [
       "23"
      ]
     },
     "execution_count": 119,
     "metadata": {},
     "output_type": "execute_result"
    }
   ],
   "source": [
    "#Filter the data in a way that I only have doctor's occupations. Excluded: pharmacists; nurses; variables including \"all other\";\n",
    "# veterinarians, opticions, technologists and technicians\n",
    "df = data.loc[data.occ2012.isin([3000, 3010, 3030, 3040, 3060, 3140, 3150, 3160, 3200, 3210, 3220])]\n",
    "\n",
    "df.head() #check how this new data set looks like\n",
    "len(df.columns) #check whether it has same number of columns"
   ]
  },
  {
   "cell_type": "code",
   "execution_count": 123,
   "id": "77be2693",
   "metadata": {},
   "outputs": [
    {
     "data": {
      "text/plain": [
       "count    1694.000000\n",
       "mean        0.879575\n",
       "std         0.325554\n",
       "min         0.000000\n",
       "25%         1.000000\n",
       "50%         1.000000\n",
       "75%         1.000000\n",
       "max         1.000000\n",
       "Name: private, dtype: float64"
      ]
     },
     "execution_count": 123,
     "metadata": {},
     "output_type": "execute_result"
    }
   ],
   "source": [
    "# Create new variables\n",
    "df[\"female\"] = (df.sex == 2).astype(int) #transform sex variable in easier to use and read dummy variable\n",
    "df[\"wage\"] = df[\"earnwke\"] / df[\"uhours\"] #variable for hourly wage\n",
    "df[\"lnwage\"] = np.log(df[\"wage\"]) # I need a log of hours wage\n",
    "df[\"agesq\"] = np.power(df[\"age\"], 2) # variable for age squared since I want to test the quadratic relationship between ln hourly wage and wage\n",
    "df[\"fem_age\"] = df['female'] * df['age'] # including interaction to test whether gender differential varies by age\n",
    " \n",
    "df['citizen'] = df.prcitshp.apply(lambda x: 1 if x != \"Foreign Born, Not a US Citizen\" else 0)#dummy to account that some doctors are officialy citizens (1 = citizen)\n",
    "df['spouce'] = df.marital.apply(lambda x: 1 if x <= 2 else 0) # create dummy 1 - if spouce is married and present, 0 otherwise\n",
    "df['atwork'] = df.lfsr94.apply(lambda x: 1 if x == \"Employed-At Work\" else 0) # 1 - emp at work, 0 - emp, absent\n",
    "df['private'] = df[\"class\"].apply(lambda x: 1 if x == 'Private, For Profit' or x == 'Private, Nonprofit' else 0) \n"
   ]
  },
  {
   "cell_type": "code",
   "execution_count": 124,
   "id": "a86ce34e",
   "metadata": {},
   "outputs": [
    {
     "data": {
      "text/plain": [
       "count    1629.0\n",
       "mean        1.0\n",
       "std         0.0\n",
       "min         1.0\n",
       "25%         1.0\n",
       "50%         1.0\n",
       "75%         1.0\n",
       "max         1.0\n",
       "Name: atwork, dtype: float64"
      ]
     },
     "execution_count": 124,
     "metadata": {},
     "output_type": "execute_result"
    }
   ],
   "source": [
    "#I suspect that those who are employed but not at work might be significantly different from those who are at work right now\n",
    "# Moreover, I don't know for what reasons they are not at work (pregnancy might be one, but might be smth else)\n",
    "# So, I drop all the employed-absent variables from data set\n",
    "df = df[df.atwork != 0] #drop those absent at work\n",
    "df.atwork.describe() #check whether it is what I wanted now"
   ]
  },
  {
   "cell_type": "code",
   "execution_count": 125,
   "id": "30ab2a9f",
   "metadata": {},
   "outputs": [
    {
     "data": {
      "text/plain": [
       "['Unnamed: 0',\n",
       " 'hhid',\n",
       " 'intmonth',\n",
       " 'stfips',\n",
       " 'weight',\n",
       " 'earnwke',\n",
       " 'uhours',\n",
       " 'grade92',\n",
       " 'race',\n",
       " 'ethnic',\n",
       " 'age',\n",
       " 'sex',\n",
       " 'marital',\n",
       " 'ownchild',\n",
       " 'chldpres',\n",
       " 'prcitshp',\n",
       " 'state',\n",
       " 'ind02',\n",
       " 'occ2012',\n",
       " 'class',\n",
       " 'unionmme',\n",
       " 'unioncov',\n",
       " 'lfsr94',\n",
       " 'female',\n",
       " 'wage',\n",
       " 'lnwage',\n",
       " 'agesq',\n",
       " 'fem_age',\n",
       " 'citizen',\n",
       " 'spouce',\n",
       " 'atwork',\n",
       " 'private']"
      ]
     },
     "execution_count": 125,
     "metadata": {},
     "output_type": "execute_result"
    }
   ],
   "source": [
    "#Sample data set only to variables of interest\n",
    "list(df.columns) #look at all the names of columns"
   ]
  },
  {
   "cell_type": "code",
   "execution_count": 126,
   "id": "3b9941cb",
   "metadata": {},
   "outputs": [],
   "source": [
    "# Select columns which are of interest\n",
    "df_final = df[['hhid', 'earnwke','uhours','grade92', 'age','agesq', 'ownchild', 'occ2012', 'private','female','lnwage','fem_age','citizen',\n",
    "              'spouce', 'atwork' ]]"
   ]
  },
  {
   "cell_type": "code",
   "execution_count": null,
   "id": "1d51a544",
   "metadata": {},
   "outputs": [],
   "source": []
  }
 ],
 "metadata": {
  "kernelspec": {
   "display_name": "Python 3",
   "language": "python",
   "name": "python3"
  },
  "language_info": {
   "codemirror_mode": {
    "name": "ipython",
    "version": 3
   },
   "file_extension": ".py",
   "mimetype": "text/x-python",
   "name": "python",
   "nbconvert_exporter": "python",
   "pygments_lexer": "ipython3",
   "version": "3.8.8"
  }
 },
 "nbformat": 4,
 "nbformat_minor": 5
}
